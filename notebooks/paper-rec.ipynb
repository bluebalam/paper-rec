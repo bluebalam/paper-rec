{
 "cells": [
  {
   "cell_type": "code",
   "execution_count": 1,
   "id": "3c1a38bc-5477-4803-bcbf-c1e735caa01a",
   "metadata": {},
   "outputs": [],
   "source": [
    "import torch\n",
    "import torch.nn as nn\n",
    "import json\n",
    "\n",
    "from huggingface_hub import hf_hub_download"
   ]
  },
  {
   "cell_type": "code",
   "execution_count": 2,
   "id": "fbdb2bbc-fb39-4757-b897-fb42943fa9dc",
   "metadata": {},
   "outputs": [],
   "source": [
    "REC_MODEL_HF_REPO_ID = \"bluebalam/paper-rec\"\n",
    "REC_MODEL_STATE_DICT = \"paper-rec-model.pth\"\n",
    "REC_PAPERS_DATA = \"papers.jsonl\"\n",
    "LANG_MODEL = 'sentence-transformers/all-MiniLM-L6-v2'"
   ]
  },
  {
   "cell_type": "code",
   "execution_count": 3,
   "id": "cb6cfa1a-3c4f-4218-984c-65cfb6c81e54",
   "metadata": {},
   "outputs": [
    {
     "data": {
      "text/plain": [
       "'/Users/bluebalam/.cache/huggingface/hub/7fe676ab4d8ee06dab9eb9aa21867e1cfebc7e56f548795ae2d5a45823281bea.aff0cf7fc39b571a6869b74ab512ee4811bd34fb696168471a2a2c34f5037700'"
      ]
     },
     "execution_count": 3,
     "metadata": {},
     "output_type": "execute_result"
    }
   ],
   "source": [
    "hf_hub_download(repo_id=REC_MODEL_HF_REPO_ID, filename=REC_MODEL_STATE_DICT)"
   ]
  },
  {
   "cell_type": "code",
   "execution_count": 4,
   "id": "d819f84a-49db-4f91-a42b-96bb7facab59",
   "metadata": {},
   "outputs": [],
   "source": [
    "class MF(torch.nn.Module):\n",
    "    def __init__(self, item_content_embeddings):\n",
    "        super().__init__()\n",
    "        self.item_embeddings = nn.Embedding.from_pretrained(item_content_embeddings)\n",
    "\n",
    "    def forward(self, user_embedding, item):\n",
    "        return (user_embedding * self.item_embeddings(item)).sum(1)"
   ]
  },
  {
   "cell_type": "code",
   "execution_count": 5,
   "id": "fc81ce95-6883-4eb5-a102-9086f85452ab",
   "metadata": {},
   "outputs": [
    {
     "data": {
      "text/plain": [
       "'/Users/bluebalam/.cache/huggingface/hub/823cf8b79d7777b91b6b2d8060119bead3010b4f9feae232c64c16db44db17b6.35aba8c41e11947f3ed330877a7523b238600c692ab801da67914265e30db842'"
      ]
     },
     "execution_count": 5,
     "metadata": {},
     "output_type": "execute_result"
    }
   ],
   "source": [
    "papers_data = hf_hub_download(repo_id=REC_MODEL_HF_REPO_ID, filename=REC_PAPERS_DATA)\n",
    "papers_data"
   ]
  },
  {
   "cell_type": "code",
   "execution_count": 6,
   "id": "5ed97b95-26b9-4b68-9a37-0c2874f3898e",
   "metadata": {},
   "outputs": [],
   "source": [
    "state_dict_path = hf_hub_download(repo_id=REC_MODEL_HF_REPO_ID, filename=REC_MODEL_STATE_DICT)"
   ]
  },
  {
   "cell_type": "code",
   "execution_count": 7,
   "id": "13b7fc33-6a12-403e-b381-b6e99f55ca1f",
   "metadata": {},
   "outputs": [],
   "source": [
    "model = MF(torch.rand(362, 384))"
   ]
  },
  {
   "cell_type": "code",
   "execution_count": 8,
   "id": "4541f0b9-36f1-4708-a579-8f148fae676c",
   "metadata": {},
   "outputs": [
    {
     "data": {
      "text/plain": [
       "<All keys matched successfully>"
      ]
     },
     "execution_count": 8,
     "metadata": {},
     "output_type": "execute_result"
    }
   ],
   "source": [
    "model.load_state_dict(torch.load(state_dict_path))"
   ]
  },
  {
   "cell_type": "code",
   "execution_count": 9,
   "id": "a056b7ad-8517-4338-a175-d95a299509f3",
   "metadata": {},
   "outputs": [],
   "source": [
    "def load_papers_data():\n",
    "    papers = []\n",
    "    papers_data_path = hf_hub_download(repo_id=REC_MODEL_HF_REPO_ID, filename=REC_PAPERS_DATA)\n",
    "    with open(papers_data_path) as fin:\n",
    "        for l in fin:\n",
    "            papers.append(json.loads(l))\n",
    "    return papers"
   ]
  },
  {
   "cell_type": "code",
   "execution_count": 10,
   "id": "6ef51460-7e24-47ec-b860-720c7146f583",
   "metadata": {},
   "outputs": [],
   "source": [
    "papers = load_papers_data()"
   ]
  },
  {
   "cell_type": "code",
   "execution_count": 11,
   "id": "73fffe83-a584-4c46-b590-96b8bfb28f62",
   "metadata": {},
   "outputs": [
    {
     "data": {
      "text/plain": [
       "362"
      ]
     },
     "execution_count": 11,
     "metadata": {},
     "output_type": "execute_result"
    }
   ],
   "source": [
    "len(papers)"
   ]
  },
  {
   "cell_type": "code",
   "execution_count": 12,
   "id": "2e3d7281-7b06-44b7-af9d-876c52d01040",
   "metadata": {},
   "outputs": [],
   "source": [
    "x = torch.arange(1., 6.)\n",
    "x\n",
    "preds=torch.topk(x, 3)"
   ]
  },
  {
   "cell_type": "code",
   "execution_count": 13,
   "id": "7899a97c-5be0-44fc-b166-756a2ed690d1",
   "metadata": {},
   "outputs": [
    {
     "data": {
      "text/plain": [
       "tensor([1., 2., 3., 4., 5.])"
      ]
     },
     "execution_count": 13,
     "metadata": {},
     "output_type": "execute_result"
    }
   ],
   "source": [
    "x"
   ]
  },
  {
   "cell_type": "code",
   "execution_count": 14,
   "id": "63ec3d77-cbc0-4cfe-81fa-b18e64259357",
   "metadata": {},
   "outputs": [
    {
     "data": {
      "text/plain": [
       "torch.return_types.topk(\n",
       "values=tensor([5., 4., 3.]),\n",
       "indices=tensor([4, 3, 2]))"
      ]
     },
     "execution_count": 14,
     "metadata": {},
     "output_type": "execute_result"
    }
   ],
   "source": [
    "preds"
   ]
  },
  {
   "cell_type": "code",
   "execution_count": 44,
   "id": "afb43679-5613-4b8e-883a-419848cb882a",
   "metadata": {},
   "outputs": [],
   "source": [
    "indices=preds.indices.numpy()"
   ]
  },
  {
   "cell_type": "code",
   "execution_count": 46,
   "id": "09cbef41-3745-4180-b48e-a6eff6fed8d7",
   "metadata": {},
   "outputs": [],
   "source": [
    "recs = [papers[i] for i in indices]"
   ]
  },
  {
   "cell_type": "code",
   "execution_count": 47,
   "id": "8d7254ad-3914-45e0-8da1-f4860d91cf37",
   "metadata": {},
   "outputs": [
    {
     "data": {
      "text/plain": [
       "[{'id': 'http://arxiv.org/abs/2202.01258',\n",
       "  'title': 'Accelerated Quality-Diversity for Robotics through Massive Parallelism.',\n",
       "  'authors': 'Bryan Lim, Maxime Allard, Luca Grillotti, Antoine Cully',\n",
       "  'abstract': 'Quality-Diversity (QD) algorithms are a well-known approach to generate large collections of diverse and high-quality policies. However, QD algorithms are also known to be data-inefficient, requiring large amounts of computational resources and are slow when used in practice for robotics tasks. Policy evaluations are already commonly performed in parallel to speed up QD algorithms but have limited capabilities on a single machine as most physics simulators run on CPUs. With recent advances in simulators that run on accelerators, thousands of evaluations can performed in parallel on single GPU/TPU. In this paper, we present QDax, an implementation of MAP-Elites which leverages massive parallelism on accelerators to make QD algorithms more accessible. We first demonstrate the improvements on the number of evaluations per second that parallelism using accelerated simulators can offer. More importantly, we show that QD algorithms are ideal candidates and can scale with massive parallelism to be run at interactive timescales. The increase in parallelism does not significantly affect the performance of QD algorithms, while reducing experiment runtimes by two factors of magnitudes, turning days of computation into minutes. These results show that QD can now benefit from hardware acceleration, which contributed significantly to the bloom of deep learning.',\n",
       "  'sentences': ['Accelerated Quality-Diversity for Robotics through Massive Parallelism.',\n",
       "   'Quality-Diversity (QD) algorithms are a well-known approach to generate large collections of diverse and high-quality policies.',\n",
       "   'However, QD algorithms are also known to be data-inefficient, requiring large amounts of computational resources and are slow when used in practice for robotics tasks.',\n",
       "   'Policy evaluations are already commonly performed in parallel to speed up QD algorithms but have limited capabilities on a single machine as most physics simulators run on CPUs.',\n",
       "   'With recent advances in simulators that run on accelerators, thousands of evaluations can performed in parallel on single GPU/TPU.',\n",
       "   'In this paper, we present QDax, an implementation of MAP-Elites which leverages massive parallelism on accelerators to make QD algorithms more accessible.',\n",
       "   'We first demonstrate the improvements on the number of evaluations per second that parallelism using accelerated simulators can offer.',\n",
       "   'More importantly, we show that QD algorithms are ideal candidates and can scale with massive parallelism to be run at interactive timescales.',\n",
       "   'The increase in parallelism does not significantly affect the performance of QD algorithms, while reducing experiment runtimes by two factors of magnitudes, turning days of computation into minutes.',\n",
       "   'These results show that QD can now benefit from hardware acceleration, which contributed significantly to the bloom of deep learning.']},\n",
       " {'id': 'http://arxiv.org/abs/2202.01256',\n",
       "  'title': 'Introduction to The Dynamic Pickup and Delivery Problem Benchmark -- ICAPS 2021 Competition.',\n",
       "  'authors': 'Jianye Hao, Jiawen Lu, Xijun Li, Xialiang Tong, Xiang Xiang, Mingxuan Yuan, Hankz Hankui Zhuo',\n",
       "  'abstract': 'The Dynamic Pickup and Delivery Problem (DPDP) is an essential problem within the logistics domain. So far, research on this problem has mainly focused on using artificial data which fails to reflect the complexity of real-world problems. In this draft, we would like to introduce a new benchmark from real business scenarios as well as a simulator supporting the dynamic evaluation. The benchmark and simulator have been published and successfully supported the ICAPS 2021 Dynamic Pickup and Delivery Problem competition participated by 152 teams.',\n",
       "  'sentences': ['Introduction to The Dynamic Pickup and Delivery Problem Benchmark -- ICAPS 2021 Competition.',\n",
       "   'The Dynamic Pickup and Delivery Problem (DPDP) is an essential problem within the logistics domain.',\n",
       "   'So far, research on this problem has mainly focused on using artificial data which fails to reflect the complexity of real-world problems.',\n",
       "   'In this draft, we would like to introduce a new benchmark from real business scenarios as well as a simulator supporting the dynamic evaluation.',\n",
       "   'The benchmark and simulator have been published and successfully supported the ICAPS 2021 Dynamic Pickup and Delivery Problem competition participated by 152 teams.']},\n",
       " {'id': 'http://arxiv.org/abs/2202.01246',\n",
       "  'title': 'PolarDenseNet: A Deep Learning Model for CSI Feedback in MIMO Systems.',\n",
       "  'authors': 'Pranav Madadi, Jeongho Jeon, Joonyoung Cho, Caleb Lo, Juho Lee, Jianzhong Zhang',\n",
       "  'abstract': 'In multiple-input multiple-output (MIMO) systems, the high-resolution channel information (CSI) is required at the base station (BS) to ensure optimal performance, especially in the case of multi-user MIMO (MU-MIMO) systems. In the absence of channel reciprocity in frequency division duplex (FDD) systems, the user needs to send the CSI to the BS. Often the large overhead associated with this CSI feedback in FDD systems becomes the bottleneck in improving the system performance. In this paper, we propose an AI-based CSI feedback based on an auto-encoder architecture that encodes the CSI at UE into a low-dimensional latent space and decodes it back at the BS by effectively reducing the feedback overhead while minimizing the loss during recovery. Our simulation results show that the AI-based proposed architecture outperforms the state-of-the-art high-resolution linear combination codebook using the DFT basis adopted in the 5G New Radio (NR) system.',\n",
       "  'sentences': ['PolarDenseNet: A Deep Learning Model for CSI Feedback in MIMO Systems.',\n",
       "   'In multiple-input multiple-output (MIMO) systems, the high-resolution channel information (CSI) is required at the base station (BS) to ensure optimal performance, especially in the case of multi-user MIMO (MU-MIMO) systems.',\n",
       "   'In the absence of channel reciprocity in frequency division duplex (FDD) systems, the user needs to send the CSI to the BS.',\n",
       "   'Often the large overhead associated with this CSI feedback in FDD systems becomes the bottleneck in improving the system performance.',\n",
       "   'In this paper, we propose an AI-based CSI feedback based on an auto-encoder architecture that encodes the CSI at UE into a low-dimensional latent space and decodes it back at the BS by effectively reducing the feedback overhead while minimizing the loss during recovery.',\n",
       "   'Our simulation results show that the AI-based proposed architecture outperforms the state-of-the-art high-resolution linear combination codebook using the DFT basis adopted in the 5G New Radio (NR) system.']}]"
      ]
     },
     "execution_count": 47,
     "metadata": {},
     "output_type": "execute_result"
    }
   ],
   "source": [
    "recs"
   ]
  },
  {
   "cell_type": "code",
   "execution_count": null,
   "id": "dd9b679d-0812-4b47-a3ab-15d33f1c642b",
   "metadata": {},
   "outputs": [],
   "source": []
  },
  {
   "cell_type": "markdown",
   "id": "9f6b22d6",
   "metadata": {},
   "source": [
    "# ---"
   ]
  },
  {
   "cell_type": "code",
   "execution_count": 1,
   "id": "c336db28",
   "metadata": {},
   "outputs": [],
   "source": [
    "import pickle"
   ]
  },
  {
   "cell_type": "code",
   "execution_count": 10,
   "id": "d2e6d95e",
   "metadata": {},
   "outputs": [],
   "source": [
    "embeddings = None\n",
    "with open(\"/Users/bluebalam/Downloads/embeddings.pkl\", \"rb\") as fin:\n",
    "    embeddings = pickle.load(fin)"
   ]
  },
  {
   "cell_type": "code",
   "execution_count": 12,
   "id": "c7bade03",
   "metadata": {},
   "outputs": [
    {
     "data": {
      "text/plain": [
       "('http://arxiv.org/abs/2202.01208',\n",
       " array([-8.96670576e-03, -8.88680145e-02,  6.79420913e-03, -1.95084829e-02,\n",
       "        -3.77330631e-02, -2.45450642e-02, -7.14130551e-02, -6.67363927e-02,\n",
       "        -3.05073522e-02, -3.59350592e-02, -2.55718529e-02,  1.74439792e-02,\n",
       "        -8.11414677e-04,  2.94881724e-02, -6.02874160e-02, -2.93579660e-02,\n",
       "         5.70216775e-02,  3.47148366e-02, -4.20632958e-02, -6.61579240e-03,\n",
       "        -2.53497586e-02,  1.32781286e-02, -5.80083905e-03, -6.03286829e-03,\n",
       "         3.91915590e-02, -2.60639880e-02, -2.62534227e-02, -3.03233936e-02,\n",
       "         1.39738237e-02, -3.04945800e-02,  2.78779306e-02, -7.00920634e-03,\n",
       "         6.41157292e-03, -4.87140380e-02, -1.24554113e-02, -5.03311343e-02,\n",
       "        -1.04708243e-02,  7.32226018e-03,  1.43467123e-02,  1.01317205e-02,\n",
       "         1.86174624e-02,  1.43358810e-02,  7.62074627e-03, -1.62231885e-02,\n",
       "         5.33821844e-02, -4.43339767e-03,  8.61919206e-03, -6.22869991e-02,\n",
       "        -3.61568900e-03,  4.66444045e-02, -5.62438294e-02, -2.58896854e-02,\n",
       "        -1.29836297e-03,  5.06516397e-02,  3.25150900e-02,  3.31394896e-02,\n",
       "         1.48012592e-02, -7.76065327e-03,  7.00040720e-03,  2.87128855e-02,\n",
       "         3.12241390e-02, -1.95615254e-02,  4.24608216e-03, -1.17739951e-02,\n",
       "         5.65190166e-02,  2.50557996e-02, -4.26698988e-03,  2.61243712e-02,\n",
       "         2.37288866e-02,  4.60314099e-03,  3.65547952e-03,  6.72384799e-02,\n",
       "         1.61791476e-03,  1.76639594e-02,  3.96415666e-02,  2.56953053e-02,\n",
       "         2.42165942e-02,  2.94277668e-02,  1.92123558e-02, -1.05222152e-03,\n",
       "         5.05456477e-02,  5.68676554e-03,  8.56336113e-03, -4.01193164e-02,\n",
       "        -1.30234910e-02,  1.47345643e-02, -5.64721413e-03,  2.23827120e-02,\n",
       "        -5.09677716e-02, -1.06477998e-02,  4.21890570e-03, -9.38103721e-03,\n",
       "        -3.62266749e-02,  4.88771684e-03, -3.47349122e-02, -1.56039987e-05,\n",
       "         3.79801281e-02, -1.54431015e-02,  7.37114698e-02,  2.17197426e-02,\n",
       "        -2.35806778e-02, -4.28308062e-02,  3.55791226e-02,  3.19567733e-02,\n",
       "         3.77779873e-03, -7.27311075e-02,  3.54309045e-02, -5.88585529e-03,\n",
       "         2.92157959e-02, -1.48375230e-02,  2.84154378e-02,  4.75751422e-02,\n",
       "        -7.01261079e-03,  1.79407187e-02,  2.09120382e-02, -3.09706405e-02,\n",
       "        -6.68765232e-02, -1.90540031e-02,  1.81482565e-02,  5.88926813e-03,\n",
       "        -2.16274429e-02, -5.22387773e-02,  8.99284519e-03,  1.12562710e-02,\n",
       "         6.30085170e-02,  9.87947918e-03, -4.55811843e-02, -2.61190473e-33,\n",
       "        -6.97679818e-03,  1.63353272e-02,  1.91966631e-02,  3.08731887e-02,\n",
       "         4.59241569e-02, -2.53599789e-02, -6.19865321e-02, -4.59548309e-02,\n",
       "         4.31609824e-02,  1.63216107e-02, -3.97427268e-02,  4.20381278e-02,\n",
       "        -1.83701571e-02,  9.62402113e-03,  5.04245162e-02,  3.27852219e-02,\n",
       "        -3.05495169e-02,  5.97127154e-02, -5.83439469e-02, -1.99780911e-02,\n",
       "         3.91200371e-02, -7.43146762e-02, -3.68546066e-03, -1.32924095e-02,\n",
       "         2.39593778e-02,  2.87199523e-02, -1.29510155e-02,  2.06090771e-02,\n",
       "        -3.72783691e-02,  1.28726764e-02, -7.44004846e-02,  1.44475596e-02,\n",
       "         7.65094347e-03, -5.41807292e-03,  2.58036163e-02,  4.22031432e-02,\n",
       "         3.51542942e-02,  1.12186735e-02, -1.02509577e-02,  2.12881844e-02,\n",
       "         2.51607560e-02,  1.20236659e-02,  1.75553653e-02,  8.57111812e-03,\n",
       "         1.24203693e-02, -9.19914339e-03, -1.95813384e-02,  4.53861207e-02,\n",
       "        -4.82237823e-02, -3.62249464e-02, -1.46252178e-02,  1.01001421e-02,\n",
       "        -3.81580181e-02, -5.87577894e-02,  3.71453427e-02,  4.96060438e-02,\n",
       "         3.80990468e-02, -2.89766993e-02, -5.02291252e-04,  5.62850311e-02,\n",
       "         3.27514149e-02, -1.80218127e-02,  2.66787503e-02, -1.94135737e-02,\n",
       "        -8.64365231e-03,  7.56494626e-02, -5.95846437e-02, -4.19843644e-02,\n",
       "         4.37966548e-02,  1.73249636e-02,  4.20251209e-03,  4.63188579e-03,\n",
       "        -1.85953937e-02, -3.91127914e-02,  1.97421387e-02,  2.12577116e-02,\n",
       "        -4.02691513e-02,  3.85253504e-02, -3.48763652e-02,  1.34291556e-02,\n",
       "        -3.42487544e-02,  7.20818788e-02, -9.42484662e-02, -6.49744784e-03,\n",
       "        -2.92761863e-04,  1.97484568e-02, -1.13027822e-02, -5.07488102e-02,\n",
       "        -4.58615758e-02, -2.23001242e-02, -6.75114468e-02,  4.77764234e-02,\n",
       "        -1.87417213e-02, -2.24385392e-02, -2.12192051e-02,  7.64411716e-34,\n",
       "        -7.47080445e-02,  1.04185492e-01, -4.76345532e-02,  6.32457137e-02,\n",
       "         1.08572887e-02,  2.51313820e-02,  3.47257741e-02,  4.61893529e-02,\n",
       "         1.91219954e-03, -4.19233367e-03,  2.31453143e-02, -1.21174119e-02,\n",
       "        -3.81478257e-02, -2.99736168e-02, -4.79457696e-04, -7.53678195e-03,\n",
       "        -3.48634310e-02, -8.57883096e-02,  3.07879616e-02, -9.77898831e-04,\n",
       "         1.63607541e-02, -4.43154341e-03, -1.64955650e-02,  2.53552422e-02,\n",
       "        -4.48169746e-02,  1.66884586e-02, -7.07409680e-02,  1.61227807e-02,\n",
       "         2.54748901e-03, -5.90219023e-03, -5.83211780e-02, -2.99939439e-02,\n",
       "        -1.70278028e-02, -3.17868739e-02, -2.29110336e-03,  7.79883936e-02,\n",
       "         6.27629235e-02, -2.49054190e-03,  3.71074975e-02, -2.56101489e-02,\n",
       "         5.41482680e-03,  3.04582324e-02, -6.06244467e-02, -1.90087985e-02,\n",
       "        -1.76012225e-03, -3.57636320e-03,  1.91022977e-02,  6.96728611e-03,\n",
       "         2.14260723e-02,  2.42396761e-02,  4.73320931e-02,  7.90638034e-04,\n",
       "         4.66916896e-02, -3.40455472e-02, -1.18343057e-02, -6.60259603e-03,\n",
       "        -4.10023667e-02, -8.04559886e-03,  1.72664151e-02,  3.88764478e-02,\n",
       "        -7.17525110e-02, -5.93396239e-02, -2.87055150e-02,  2.41878703e-02,\n",
       "        -4.63220924e-02,  3.79356928e-02,  2.01030802e-02, -2.52709910e-02,\n",
       "         1.77070906e-04,  3.44394594e-02,  3.50306765e-03,  1.47137707e-02,\n",
       "         1.48504628e-02,  6.69605881e-02, -2.34435871e-02, -4.70084511e-02,\n",
       "        -4.66457568e-02, -4.51031961e-02, -2.70387735e-02,  4.12102491e-02,\n",
       "         1.00521380e-02, -1.79742184e-02,  4.77628559e-02,  3.95164639e-02,\n",
       "         4.87416238e-02,  6.17294312e-02, -1.57738551e-02, -4.12212014e-02,\n",
       "        -4.18238435e-03, -1.41703226e-02,  2.59827767e-02,  2.67692581e-02,\n",
       "        -2.09183600e-02, -3.82214636e-02, -2.72234883e-02, -2.76863350e-08,\n",
       "        -5.17464876e-02, -7.54321553e-03,  5.15066646e-02, -4.13155295e-02,\n",
       "         9.72817000e-03, -2.97916234e-02,  3.59127205e-03,  1.03477985e-02,\n",
       "         2.70417649e-02, -1.45984376e-02,  2.52007041e-02, -4.38552350e-02,\n",
       "        -3.99165601e-02,  2.21340805e-02, -8.80264153e-04,  3.14342193e-02,\n",
       "         8.28922633e-03,  2.77007725e-02, -3.88981961e-02, -3.35858092e-02,\n",
       "         1.22561781e-02,  6.57378361e-02,  1.63856614e-02,  1.21768517e-02,\n",
       "         5.62891699e-02, -2.31650807e-02, -1.71099603e-02, -7.24053383e-03,\n",
       "        -1.99498441e-02,  3.84587944e-02, -4.45201900e-03, -5.10550523e-03,\n",
       "         7.62157794e-03,  6.51915744e-02,  1.01437364e-02,  4.93163476e-03,\n",
       "         2.94151809e-02,  3.57615799e-02, -3.72592025e-02, -2.07341788e-03,\n",
       "        -3.78839821e-02,  2.52684541e-02, -2.67229509e-02, -3.31761735e-03,\n",
       "         3.27789448e-02,  1.77141055e-02,  3.65368016e-02, -2.94383690e-02,\n",
       "         2.32841503e-02,  2.70406734e-02,  4.94748959e-03,  1.60851479e-02,\n",
       "        -2.12803949e-02,  6.61913725e-03,  2.28438899e-02,  2.92131696e-02,\n",
       "         2.04121862e-02, -1.68139562e-02,  2.50882399e-03,  5.53592294e-02,\n",
       "        -1.12649398e-02,  9.72021930e-03, -1.12176649e-02, -1.67441890e-02],\n",
       "       dtype=float32))"
      ]
     },
     "execution_count": 12,
     "metadata": {},
     "output_type": "execute_result"
    }
   ],
   "source": [
    "embeddings[0]"
   ]
  },
  {
   "cell_type": "code",
   "execution_count": null,
   "id": "155285ba",
   "metadata": {},
   "outputs": [],
   "source": []
  }
 ],
 "metadata": {
  "kernelspec": {
   "display_name": "Python 3.9.9 64-bit ('paper-rec')",
   "language": "python",
   "name": "python3"
  },
  "language_info": {
   "codemirror_mode": {
    "name": "ipython",
    "version": 3
   },
   "file_extension": ".py",
   "mimetype": "text/x-python",
   "name": "python",
   "nbconvert_exporter": "python",
   "pygments_lexer": "ipython3",
   "version": "3.9.9"
  },
  "vscode": {
   "interpreter": {
    "hash": "4e94e6b9b379998f91e687576bfe633b5787bb4be6e105c81eb942c14e19c422"
   }
  }
 },
 "nbformat": 4,
 "nbformat_minor": 5
}
