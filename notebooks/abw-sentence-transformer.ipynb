{
 "cells": [
  {
   "cell_type": "markdown",
   "metadata": {},
   "source": [
    "# Privacy-aware Personalization\n",
    "## Text Embeddings"
   ]
  },
  {
   "cell_type": "code",
   "execution_count": 25,
   "metadata": {},
   "outputs": [],
   "source": [
    "import numpy as np\n",
    "\n",
    "\n",
    "from sentence_transformers import SentenceTransformer\n",
    "from huggingface_hub import hf_hub_download\n",
    "from nltk.tokenize import sent_tokenize\n",
    "\n",
    "\n",
    "# Sentence Transformer Model\n",
    "LANG_MODEL = 'sentence-transformers/all-MiniLM-L6-v2'"
   ]
  },
  {
   "cell_type": "code",
   "execution_count": 16,
   "metadata": {},
   "outputs": [],
   "source": [
    "lang_model = SentenceTransformer(LANG_MODEL)"
   ]
  },
  {
   "cell_type": "code",
   "execution_count": 19,
   "metadata": {},
   "outputs": [],
   "source": [
    "t1 = \"\"\"Countries’ climate promises still not enough to avoid catastrophic global warming\"\"\"\n",
    "t2 = \"\"\"‘Game changer’ ideas on water and sustainability, centre-stage ahead of major water conference\"\"\"\n",
    "t3 = \"\"\"Putin’s wild claims of a dirty bomb show just how badly his army is faring\"\"\""
   ]
  },
  {
   "cell_type": "code",
   "execution_count": 20,
   "metadata": {},
   "outputs": [],
   "source": [
    "t1_embedding = lang_model.encode(t1)\n",
    "t2_embedding = lang_model.encode(t2)\n",
    "t3_embedding = lang_model.encode(t3)"
   ]
  },
  {
   "cell_type": "code",
   "execution_count": 29,
   "metadata": {},
   "outputs": [
    {
     "data": {
      "text/plain": [
       "array([-3.76470797e-02,  7.93813094e-02,  1.15569159e-01,  3.22391093e-02,\n",
       "        5.21174185e-02, -3.49981785e-02, -1.08100809e-01, -3.45447026e-02,\n",
       "        4.96633677e-03,  1.15390783e-02, -2.43845265e-02, -4.11792770e-02,\n",
       "        4.34095711e-02,  1.57040022e-02, -5.72759397e-02, -1.83675438e-02,\n",
       "       -1.62207678e-01, -6.28029481e-02,  7.99851492e-03, -4.45780084e-02,\n",
       "        1.47652691e-02,  5.02038263e-02,  4.63402346e-02,  1.90159343e-02,\n",
       "       -5.76804578e-02, -5.56247309e-02, -1.69655047e-02,  2.87796408e-02,\n",
       "       -1.99685954e-02,  1.09263420e-01, -4.99426760e-02,  4.88001257e-02,\n",
       "       -7.65687898e-02, -9.54040978e-03,  1.24400677e-02,  3.49134803e-02,\n",
       "       -5.41173220e-02, -1.97379030e-02, -5.12013175e-02, -1.63228419e-02,\n",
       "        1.78625677e-02,  4.56010457e-03,  1.33623900e-02, -3.04109659e-02,\n",
       "        1.85156614e-02, -5.19503281e-03,  5.78608215e-02, -2.86364462e-02,\n",
       "       -1.04727574e-01, -3.10027394e-02,  5.40566705e-02,  4.26301546e-02,\n",
       "       -5.48129193e-02, -9.87723842e-02,  3.51605192e-02, -5.12167960e-02,\n",
       "       -1.94594101e-03, -1.93751771e-02, -3.88135649e-02, -2.88629141e-02,\n",
       "        1.76711716e-02, -1.20846979e-01, -5.59790544e-02, -4.24585901e-02,\n",
       "        5.43902777e-02,  6.59561157e-02,  1.37853958e-02,  6.72223046e-02,\n",
       "       -1.64281931e-02,  9.97966230e-02, -3.83318067e-02,  1.39106775e-03,\n",
       "       -1.99161507e-02, -2.60065421e-02, -2.90769041e-02, -4.41125855e-02,\n",
       "       -3.70036960e-02,  5.95984906e-02,  9.07901451e-02,  1.33262174e-02,\n",
       "        1.21352756e-02, -5.97341545e-02,  8.60497206e-02, -5.14953211e-02,\n",
       "        7.07735773e-03,  2.60684006e-02,  5.98764680e-02, -6.32318631e-02,\n",
       "        8.55407938e-02, -1.82521045e-02, -5.57115823e-02, -1.30152121e-01,\n",
       "        8.33920836e-02,  4.75103818e-02, -6.50859326e-02,  8.26004148e-02,\n",
       "        1.11540422e-01, -3.02416719e-02, -1.08261399e-01, -3.62347998e-02,\n",
       "        3.04962248e-02, -2.41479892e-02, -1.98284816e-02, -3.40603478e-02,\n",
       "       -2.79406197e-02, -3.12624387e-02, -2.57494021e-02, -3.10239270e-02,\n",
       "       -2.51264311e-03,  1.75544731e-02, -1.03435710e-01,  1.29932137e-02,\n",
       "        1.17437625e-02, -1.45060448e-02,  4.35089953e-02, -5.27401119e-02,\n",
       "        2.65166089e-02,  7.21092382e-03, -1.11467177e-02, -3.39928195e-02,\n",
       "       -3.59718427e-02,  7.12175854e-03,  3.54610607e-02,  5.32549508e-02,\n",
       "       -7.61392945e-03, -5.39500788e-02,  8.85689259e-03, -1.92660291e-33,\n",
       "        6.81474283e-02,  2.93169841e-02,  4.93805930e-02, -2.46770252e-02,\n",
       "       -7.00087007e-03,  2.55098436e-02,  4.43699770e-03, -1.41345942e-02,\n",
       "       -1.39268953e-02, -1.39737446e-02, -2.53674909e-02,  5.59036387e-03,\n",
       "        5.05566411e-03,  8.48444179e-02,  4.96216714e-02,  2.93508004e-02,\n",
       "       -2.28327001e-03,  4.84660529e-02,  4.31769378e-02,  6.66468441e-02,\n",
       "       -2.08834261e-02,  7.67779024e-03,  8.14751387e-02,  9.08464566e-03,\n",
       "        2.19106935e-02,  5.36816515e-05,  8.36256817e-02,  7.20042139e-02,\n",
       "       -1.75999361e-03, -9.01291333e-03,  5.43352477e-02,  1.06473239e-02,\n",
       "       -3.78676131e-02, -4.02239338e-03,  4.83469889e-02, -5.13507873e-02,\n",
       "       -4.89089303e-02, -1.68972127e-02, -1.54785095e-02,  3.48796844e-02,\n",
       "        1.34590827e-02,  4.30579931e-02, -2.87369527e-02, -6.02594055e-02,\n",
       "        1.08511180e-01, -3.01958211e-02,  7.79320225e-02, -3.35643217e-02,\n",
       "       -8.54311213e-02,  6.91516623e-02, -2.67029051e-02,  1.11749537e-01,\n",
       "       -4.45245877e-02, -7.68378228e-02,  2.67363992e-02, -6.11423552e-02,\n",
       "        4.66415398e-02, -8.33145226e-04, -4.21492830e-02, -9.77492034e-02,\n",
       "       -2.37727538e-03, -1.05877802e-01, -2.08675917e-02,  8.41097813e-03,\n",
       "        7.55908415e-02,  1.35272548e-01,  9.93216410e-04, -2.74220165e-02,\n",
       "       -7.18585178e-02, -1.52095603e-02,  5.52202985e-02, -2.79117282e-02,\n",
       "        3.58791417e-03, -1.67094767e-02,  1.58441137e-03,  1.10293450e-02,\n",
       "        5.01380265e-02, -9.40955617e-03,  2.79956181e-02,  2.44360510e-02,\n",
       "       -4.15463485e-02,  1.65164436e-03, -1.93176605e-02, -6.83326647e-02,\n",
       "       -1.98188461e-02, -5.04862666e-02,  2.08327230e-02,  4.74242158e-02,\n",
       "        6.78698272e-02,  2.06013452e-02, -9.33227316e-02, -7.69041386e-03,\n",
       "        8.54711384e-02,  1.65462624e-02, -4.18984815e-02,  2.29278589e-34,\n",
       "        9.61786658e-02,  2.71509681e-02,  1.79650560e-02,  5.56617929e-03,\n",
       "       -9.00353305e-03, -2.67456565e-02, -9.18313675e-03, -6.56441003e-02,\n",
       "        6.18686602e-02, -3.18492465e-02,  3.04622259e-02,  1.10993274e-02,\n",
       "        1.19335033e-01,  6.37610033e-02,  2.12767441e-02,  5.22986613e-03,\n",
       "        5.66683225e-02, -1.16392346e-02, -1.91648733e-02, -7.25747496e-02,\n",
       "        6.45167083e-02, -7.75920972e-02, -7.06537217e-02,  1.25485107e-01,\n",
       "       -1.01249889e-01,  1.71835776e-02, -6.68789595e-02, -2.46562175e-02,\n",
       "       -1.60405152e-02, -3.42550240e-02, -4.78797778e-02,  1.03927776e-01,\n",
       "       -8.72622728e-02,  9.50047933e-03, -1.91876255e-02,  2.00311071e-03,\n",
       "       -2.20533516e-02,  5.01480922e-02, -2.85741556e-02,  4.21369560e-02,\n",
       "        2.11186651e-02, -9.88873690e-02,  1.12181650e-02, -4.73087616e-02,\n",
       "       -8.72076271e-06, -2.14056503e-02,  6.05860800e-02,  4.48886231e-02,\n",
       "        1.81075297e-02, -3.06031164e-02,  8.97311419e-03,  3.11911348e-02,\n",
       "       -8.67320970e-02,  6.38721976e-03, -8.76178686e-03, -5.32741323e-02,\n",
       "       -4.15563444e-03, -1.60557441e-02,  6.63085729e-02, -5.39722368e-02,\n",
       "       -6.06141463e-02,  1.08032925e-02,  5.39987721e-02,  5.66037139e-03,\n",
       "        1.57042388e-02, -2.59860535e-03, -3.92464288e-02,  7.87408873e-02,\n",
       "        1.42831028e-01,  1.33677823e-02,  3.56278569e-02, -4.83367629e-02,\n",
       "       -6.27307519e-02, -4.42515388e-02,  1.99824385e-02,  2.02795658e-02,\n",
       "       -6.22938387e-02, -3.72015014e-02,  3.35865351e-03,  1.15384599e-02,\n",
       "        2.58676764e-02,  2.82374434e-02,  5.61378412e-02,  1.63992327e-02,\n",
       "        6.82400763e-02, -3.97673026e-02,  1.53717678e-02, -8.70679021e-02,\n",
       "        1.16351210e-02,  1.30099446e-01, -1.06385991e-01,  2.92266142e-02,\n",
       "       -1.33863287e-02,  4.95348163e-02, -4.53500710e-02, -1.85441564e-08,\n",
       "        1.90486647e-02,  2.16210485e-02,  3.72136533e-02,  2.86750048e-02,\n",
       "        3.85601830e-04, -1.98401622e-02,  5.25760511e-03,  4.59447503e-02,\n",
       "        1.20847337e-02, -2.07685423e-03,  6.56702146e-02,  4.73063067e-02,\n",
       "        8.74836370e-02,  3.94884534e-02, -3.89927812e-02,  1.54742803e-02,\n",
       "       -9.02580563e-03,  9.91532858e-03,  2.61233514e-03,  6.61990745e-03,\n",
       "       -2.40394361e-02,  2.71958280e-02, -7.04547167e-02, -6.91707581e-02,\n",
       "        6.32817522e-02,  4.42767423e-03,  1.41910594e-02,  1.17557995e-01,\n",
       "       -3.00162993e-02,  4.52100113e-02,  2.26073526e-02, -1.19487345e-01,\n",
       "        9.81622189e-02, -2.93986630e-02, -4.57014553e-02, -4.95298728e-02,\n",
       "        6.37118742e-02,  7.04946443e-02,  2.15602051e-02, -7.45033175e-02,\n",
       "       -1.01587558e-02,  1.17172033e-01,  1.85838267e-02,  6.43178523e-02,\n",
       "       -8.46881978e-03, -7.26624429e-02, -1.52810598e-02,  4.60079797e-02,\n",
       "       -1.22169135e-02,  5.83931021e-02, -6.93169087e-02, -2.37559080e-02,\n",
       "       -5.15825227e-02,  2.18398087e-02, -1.48611451e-02, -5.10391481e-02,\n",
       "       -1.53068462e-02,  6.79299561e-03, -1.41415047e-02,  5.96824549e-02,\n",
       "       -4.91662882e-02, -5.47488332e-02, -2.15946119e-02,  1.09718028e-04],\n",
       "      dtype=float32)"
      ]
     },
     "execution_count": 29,
     "metadata": {},
     "output_type": "execute_result"
    }
   ],
   "source": [
    "t1_embedding"
   ]
  },
  {
   "cell_type": "code",
   "execution_count": 26,
   "metadata": {},
   "outputs": [],
   "source": [
    "def cos_sim(a, b):\n",
    "    return np.dot(a, b)/(np.linalg.norm(a) * np.linalg.norm(b))"
   ]
  },
  {
   "cell_type": "code",
   "execution_count": 28,
   "metadata": {},
   "outputs": [
    {
     "data": {
      "text/plain": [
       "(0.26917994, 0.11937308)"
      ]
     },
     "execution_count": 28,
     "metadata": {},
     "output_type": "execute_result"
    }
   ],
   "source": [
    "cos_sim(t1_embedding, t2_embedding), cos_sim(t1_embedding, t3_embedding)"
   ]
  },
  {
   "cell_type": "code",
   "execution_count": 11,
   "metadata": {},
   "outputs": [],
   "source": [
    "def get_sentences_from_txt(txt):\n",
    "    return sent_tokenize(txt)\n",
    "    \n",
    "def encode(self, sentences):\n",
    "    lang_model = SentenceTransformer(LANG_MODEL)\n",
    "    return lang_model.encode(sentences)"
   ]
  },
  {
   "cell_type": "code",
   "execution_count": 12,
   "metadata": {},
   "outputs": [],
   "source": [
    "txt = \"\"\"\n",
    "A couple of years into the pandemic, Shirley Neville had finally had enough of her crappy internet service.\n",
    "\n",
    "“It was just a headache,” said Neville, who lives in a middle-class neighborhood in New Orleans whose residents are almost all Black or Latino. “When I was getting ready to use my tablet for a meeting, it was cutting off and not coming on.”\n",
    "\n",
    "Neville said she was willing to pay more to be able to Zoom without interruption, so she called AT&T to upgrade her connection. She said she was told there was nothing the company could do.\n",
    "\n",
    "In her area, AT&T only offers download speeds of 1 megabit per second or less, trapping her in a digital Stone Age. Her internet is so slow that it doesn’t meet Zoom’s recommended minimum for group video calls, doesn’t come close to the FCC’s definition of broadband, currently 25 Mbps, and is worlds below median home internet speeds in the U.S., which average 167 Mbps.\n",
    "\"\"\""
   ]
  },
  {
   "cell_type": "code",
   "execution_count": 13,
   "metadata": {},
   "outputs": [],
   "source": [
    "sentences = get_sentences_from_txt(txt)"
   ]
  },
  {
   "cell_type": "code",
   "execution_count": 15,
   "metadata": {},
   "outputs": [
    {
     "data": {
      "text/plain": [
       "'\\nA couple of years into the pandemic, Shirley Neville had finally had enough of her crappy internet service.'"
      ]
     },
     "execution_count": 15,
     "metadata": {},
     "output_type": "execute_result"
    }
   ],
   "source": [
    "sentences[0]"
   ]
  },
  {
   "cell_type": "code",
   "execution_count": null,
   "metadata": {},
   "outputs": [],
   "source": []
  }
 ],
 "metadata": {
  "kernelspec": {
   "display_name": "Python 3.9.9 64-bit ('paper-rec')",
   "language": "python",
   "name": "python3"
  },
  "language_info": {
   "codemirror_mode": {
    "name": "ipython",
    "version": 3
   },
   "file_extension": ".py",
   "mimetype": "text/x-python",
   "name": "python",
   "nbconvert_exporter": "python",
   "pygments_lexer": "ipython3",
   "version": "3.9.9"
  },
  "orig_nbformat": 4,
  "vscode": {
   "interpreter": {
    "hash": "4e94e6b9b379998f91e687576bfe633b5787bb4be6e105c81eb942c14e19c422"
   }
  }
 },
 "nbformat": 4,
 "nbformat_minor": 2
}
