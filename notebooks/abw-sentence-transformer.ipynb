{
 "cells": [
  {
   "cell_type": "markdown",
   "metadata": {},
   "source": [
    "# Privacy-aware Personalization\n",
    "## Text Embeddings"
   ]
  },
  {
   "cell_type": "code",
   "execution_count": 1,
   "metadata": {},
   "outputs": [],
   "source": [
    "import numpy as np\n",
    "\n",
    "\n",
    "from sentence_transformers import SentenceTransformer\n",
    "from huggingface_hub import hf_hub_download\n",
    "from nltk.tokenize import sent_tokenize\n",
    "\n"
   ]
  },
  {
   "cell_type": "markdown",
   "metadata": {},
   "source": [
    "### Use a Language Model as `Feature Extractor` to encode text as vector embeddings"
   ]
  },
  {
   "cell_type": "code",
   "execution_count": 2,
   "metadata": {},
   "outputs": [],
   "source": [
    "# Sentence Transformer Model\n",
    "# Paper: Sentence-BERT: Sentence Embeddings using Siamese BERT-Networks by Nils Reimers and Iryna Gurevych\n",
    "# https://arxiv.org/abs/1908.10084\n",
    "LANG_MODEL = 'sentence-transformers/all-MiniLM-L6-v2'\n",
    "lang_model = SentenceTransformer(LANG_MODEL)"
   ]
  },
  {
   "cell_type": "code",
   "execution_count": 3,
   "metadata": {},
   "outputs": [],
   "source": [
    "t1 = \"\"\"Countries’ climate promises still not enough to avoid catastrophic global warming\"\"\"\n",
    "t2 = \"\"\"‘Game changer’ ideas on water and sustainability, centre-stage ahead of major water conference\"\"\"\n",
    "t3 = \"\"\"Putin’s wild claims of a dirty bomb show just how badly his army is faring\"\"\""
   ]
  },
  {
   "cell_type": "markdown",
   "metadata": {},
   "source": [
    "Compute the Embeddings"
   ]
  },
  {
   "cell_type": "code",
   "execution_count": 4,
   "metadata": {},
   "outputs": [],
   "source": [
    "t1_embedding = lang_model.encode(t1)\n",
    "t2_embedding = lang_model.encode(t2)\n",
    "t3_embedding = lang_model.encode(t3)"
   ]
  },
  {
   "cell_type": "code",
   "execution_count": 6,
   "metadata": {},
   "outputs": [
    {
     "data": {
      "text/plain": [
       "384"
      ]
     },
     "execution_count": 6,
     "metadata": {},
     "output_type": "execute_result"
    }
   ],
   "source": [
    "len(t1_embedding)"
   ]
  },
  {
   "cell_type": "code",
   "execution_count": 7,
   "metadata": {},
   "outputs": [],
   "source": [
    "def cos_sim(a, b):\n",
    "    return np.dot(a, b)/(np.linalg.norm(a) * np.linalg.norm(b))"
   ]
  },
  {
   "cell_type": "code",
   "execution_count": 11,
   "metadata": {},
   "outputs": [
    {
     "data": {
      "text/plain": [
       "True"
      ]
     },
     "execution_count": 11,
     "metadata": {},
     "output_type": "execute_result"
    }
   ],
   "source": [
    "cos_sim(t1_embedding, t2_embedding) > cos_sim(t1_embedding, t3_embedding)"
   ]
  },
  {
   "cell_type": "code",
   "execution_count": null,
   "metadata": {},
   "outputs": [],
   "source": []
  },
  {
   "cell_type": "markdown",
   "metadata": {},
   "source": [
    "# Document Embeddings from "
   ]
  },
  {
   "cell_type": "code",
   "execution_count": 14,
   "metadata": {},
   "outputs": [],
   "source": [
    "def get_sentences_from_txt(txt):\n",
    "    return sent_tokenize(txt)\n",
    "    \n",
    "def encode(sentences):\n",
    "    lang_model = SentenceTransformer(LANG_MODEL)\n",
    "    return lang_model.encode(sentences)\n",
    "\n",
    "def embedding(sentences):\n",
    "    embs = encode(sentences)\n",
    "    return np.mean(embs, axis=0)"
   ]
  },
  {
   "cell_type": "code",
   "execution_count": 15,
   "metadata": {},
   "outputs": [],
   "source": [
    "txt = \"\"\"\n",
    "A couple of years into the pandemic, Shirley Neville had finally had enough of her crappy internet service.\n",
    "\n",
    "“It was just a headache,” said Neville, who lives in a middle-class neighborhood in New Orleans whose residents are almost all Black or Latino. “When I was getting ready to use my tablet for a meeting, it was cutting off and not coming on.”\n",
    "\n",
    "Neville said she was willing to pay more to be able to Zoom without interruption, so she called AT&T to upgrade her connection. She said she was told there was nothing the company could do.\n",
    "\n",
    "In her area, AT&T only offers download speeds of 1 megabit per second or less, trapping her in a digital Stone Age. Her internet is so slow that it doesn’t meet Zoom’s recommended minimum for group video calls, doesn’t come close to the FCC’s definition of broadband, currently 25 Mbps, and is worlds below median home internet speeds in the U.S., which average 167 Mbps.\n",
    "\"\"\""
   ]
  },
  {
   "cell_type": "code",
   "execution_count": 16,
   "metadata": {},
   "outputs": [],
   "source": [
    "sentences = get_sentences_from_txt(txt)"
   ]
  },
  {
   "cell_type": "code",
   "execution_count": 17,
   "metadata": {},
   "outputs": [
    {
     "data": {
      "text/plain": [
       "'\\nA couple of years into the pandemic, Shirley Neville had finally had enough of her crappy internet service.'"
      ]
     },
     "execution_count": 17,
     "metadata": {},
     "output_type": "execute_result"
    }
   ],
   "source": [
    "sentences[0]"
   ]
  },
  {
   "cell_type": "code",
   "execution_count": 18,
   "metadata": {},
   "outputs": [],
   "source": [
    "e = embedding(sentences)"
   ]
  },
  {
   "cell_type": "code",
   "execution_count": 19,
   "metadata": {},
   "outputs": [
    {
     "data": {
      "text/plain": [
       "array([ 1.66409955e-04, -2.46578753e-02,  1.27157653e-02, -1.39318025e-02,\n",
       "       -1.95183177e-02, -8.11083429e-03,  2.91513633e-02, -2.32566590e-03,\n",
       "       -1.82475466e-02, -3.23802163e-03,  3.82250622e-02,  3.92706655e-02,\n",
       "       -2.80668736e-02, -3.62194292e-02, -2.22149473e-02, -1.47188818e-02,\n",
       "        5.83654679e-02, -8.96345451e-02, -3.11663654e-02,  3.18242610e-03,\n",
       "       -1.19665021e-03, -2.53055096e-02,  5.83956987e-02,  5.64749427e-02,\n",
       "        4.75096703e-02,  3.08116619e-02, -4.12140824e-02, -2.56042685e-02,\n",
       "       -1.03905173e-02,  1.29802199e-02, -3.84920835e-02,  5.07800020e-02,\n",
       "        9.66909435e-03,  1.57850515e-02,  2.14994457e-02, -3.52065265e-03,\n",
       "        3.54105122e-02,  7.28204325e-02,  9.65165813e-03, -1.24073550e-02,\n",
       "       -7.32069975e-03, -4.41718996e-02, -1.35788731e-02,  2.49458533e-02,\n",
       "       -8.54263920e-03, -4.47138883e-02,  4.47396003e-02, -2.02657189e-03,\n",
       "       -1.82979386e-02, -6.51293397e-02, -5.16681513e-03,  1.86813250e-02,\n",
       "       -2.60702595e-02, -7.30029941e-02, -1.11855157e-02,  4.65781474e-03,\n",
       "       -1.48763992e-02,  3.87913920e-02,  1.62478890e-02,  4.64119278e-02,\n",
       "       -3.39030512e-02, -4.06210236e-02, -9.70538799e-03,  6.55215755e-02,\n",
       "       -1.09256795e-02,  1.64596420e-02,  3.60017642e-03, -2.69200895e-02,\n",
       "       -1.68087855e-02,  1.95199158e-03, -8.74619652e-03,  2.12226976e-02,\n",
       "       -1.32136820e-02,  2.45267954e-02,  4.48385067e-03, -1.67421531e-02,\n",
       "        9.36980769e-02,  1.81346834e-02,  4.18856405e-02,  4.45470102e-02,\n",
       "       -1.46508915e-02, -5.67582846e-02,  6.70491681e-02,  2.75817458e-02,\n",
       "        3.44518088e-02, -1.87961757e-02,  2.26199321e-04, -2.26342287e-02,\n",
       "       -2.50918772e-02, -6.86875209e-02, -4.71317358e-02,  6.13166988e-02,\n",
       "        1.66177172e-02,  4.30751182e-02, -7.81044317e-03, -2.20470652e-02,\n",
       "       -1.63006075e-02, -6.49016872e-02, -6.44812360e-02,  4.62981053e-02,\n",
       "       -8.54762178e-03,  5.99606074e-02,  4.54858318e-03,  9.58679989e-03,\n",
       "       -2.69197170e-02, -3.67785543e-02,  2.54538003e-02,  3.19135599e-02,\n",
       "       -2.85439682e-03,  3.65709998e-02, -8.61661043e-04, -4.28486057e-02,\n",
       "       -7.49065215e-03, -2.44838297e-02, -4.79793362e-03, -3.48479487e-03,\n",
       "       -2.39850655e-02,  7.09041546e-04,  3.22122052e-02, -3.86251472e-02,\n",
       "       -1.55137293e-02, -1.21366121e-02, -8.24816599e-02,  9.93765425e-03,\n",
       "        5.15505904e-03, -1.01489127e-02,  2.58634854e-02, -8.18311943e-34,\n",
       "        8.79584625e-03,  4.58664931e-02, -1.20427040e-02,  1.21759744e-02,\n",
       "        2.65195072e-02,  7.35115707e-02, -7.42663397e-03,  5.03517054e-02,\n",
       "        1.53620997e-02,  3.31459343e-02, -2.26410087e-02, -5.74753769e-02,\n",
       "       -4.12327610e-02, -5.72451316e-02,  3.82401831e-02,  1.38575062e-02,\n",
       "       -2.09734011e-02,  2.00755242e-02,  2.53348295e-02, -1.32245691e-02,\n",
       "        4.40321751e-02,  7.30346655e-03, -1.76971201e-02,  1.19074034e-02,\n",
       "       -6.31202525e-03,  1.37350278e-03,  1.24752289e-02,  1.04030492e-02,\n",
       "        7.63741285e-02,  1.74307134e-02, -5.23074754e-02, -1.31465690e-02,\n",
       "        2.36874446e-02, -3.15004960e-02,  1.80193409e-02,  1.51690887e-02,\n",
       "       -2.65596863e-02, -4.35341932e-02, -3.30749177e-03,  3.22540738e-02,\n",
       "       -3.31376158e-02,  1.66294277e-02, -7.54501030e-04, -5.21283858e-02,\n",
       "       -6.20015822e-02,  4.73031728e-03,  1.96003448e-03, -4.14996780e-03,\n",
       "       -2.06684209e-02,  7.33185336e-02, -1.22344382e-02,  2.10592505e-02,\n",
       "        2.29884195e-03,  4.03523333e-02,  2.61837188e-02,  5.38370721e-02,\n",
       "        2.28330661e-02,  3.42514156e-03,  8.04043487e-02,  3.29312980e-02,\n",
       "        2.35340092e-02, -4.71407026e-02, -2.10553203e-02, -7.23543204e-03,\n",
       "        1.10212862e-02, -1.10110370e-02,  1.92690957e-02, -1.82161424e-02,\n",
       "       -3.14184502e-02,  3.64021175e-02, -9.88667365e-03,  3.11738271e-02,\n",
       "        2.80212406e-02,  9.91680007e-03, -7.52732381e-02, -4.36175242e-03,\n",
       "       -6.11402132e-02,  1.02236485e-02,  1.26126958e-02,  3.38437711e-03,\n",
       "        4.55726422e-02,  1.47293753e-03,  6.53890520e-02,  1.94916595e-02,\n",
       "        4.78353687e-02, -1.95019711e-02,  2.35745460e-02,  6.71191281e-03,\n",
       "       -5.25165088e-02,  5.36551289e-02, -2.44045164e-02,  3.03189959e-02,\n",
       "       -1.64707191e-02, -5.27241407e-03, -1.00133696e-03, -6.46315493e-34,\n",
       "       -7.74842724e-02, -3.93962711e-02, -2.19171699e-02,  3.34906168e-02,\n",
       "       -2.78552454e-02, -2.30040550e-02,  4.09258716e-02,  4.25362550e-02,\n",
       "        6.11561053e-02, -4.22478281e-03,  2.94573754e-02, -2.07600463e-02,\n",
       "        1.51228867e-02, -3.99612151e-02, -1.03142597e-02, -1.82652492e-02,\n",
       "        2.51508597e-02, -4.65625636e-02,  1.34788258e-02,  2.91347150e-02,\n",
       "       -2.39988510e-02, -2.20595375e-02,  3.49638774e-03,  1.82150621e-02,\n",
       "       -2.64178473e-03,  1.21442704e-02,  8.91124178e-03, -2.58879014e-03,\n",
       "       -3.98823731e-02, -7.96689093e-03,  1.92844551e-02, -2.84719300e-02,\n",
       "       -4.97615747e-02, -1.47300614e-02,  1.11418329e-02,  4.47242558e-02,\n",
       "       -1.88079774e-02,  7.40472553e-03, -2.67619044e-02, -3.57233323e-02,\n",
       "        6.36749193e-02, -3.84294731e-03,  1.27583416e-02,  4.12265445e-06,\n",
       "        5.69430031e-02,  1.74646806e-02, -2.71114279e-02, -2.40647104e-02,\n",
       "       -1.77689772e-02,  1.58825312e-02, -2.83246604e-03, -8.77271686e-03,\n",
       "        5.39567433e-02,  4.30835225e-02, -1.61839668e-02, -2.64084395e-02,\n",
       "        1.50127066e-02, -3.25211585e-02,  3.25966924e-02, -6.02476411e-02,\n",
       "        2.91058626e-02, -3.58776823e-02, -6.85849637e-02, -3.91696207e-03,\n",
       "        2.42953878e-02,  1.60485208e-02,  1.77068040e-02, -3.23442221e-02,\n",
       "        1.94155071e-02,  6.89745247e-02,  6.56953128e-03, -2.11756174e-02,\n",
       "       -2.74982732e-02, -1.96617525e-02,  8.78246594e-03,  1.38516063e-02,\n",
       "       -4.63014282e-02,  3.12176850e-02, -2.38111094e-02, -2.17115898e-02,\n",
       "        3.94777767e-02,  5.38445823e-02,  1.95739884e-02, -3.48937288e-02,\n",
       "        2.35315952e-02, -4.28464403e-03,  4.30674963e-02, -2.63128113e-02,\n",
       "       -2.01030225e-02, -1.58079248e-02,  4.96155815e-03, -1.98291652e-02,\n",
       "       -4.42499928e-02, -5.97706204e-03, -2.54524853e-02, -2.87754833e-08,\n",
       "       -1.38597062e-03,  1.26130404e-02,  1.68990775e-03, -6.19502962e-02,\n",
       "        6.87521249e-02,  9.74879786e-03,  2.59437133e-02,  1.30092995e-02,\n",
       "        2.84274872e-02,  2.48580296e-02, -1.66607592e-02,  1.94738787e-02,\n",
       "       -3.45783643e-02,  3.29903364e-02,  1.78641733e-02, -5.82468696e-03,\n",
       "       -1.24898553e-02, -5.78142367e-02,  1.73124427e-03,  6.07315078e-03,\n",
       "       -7.83204287e-03,  2.19842140e-02,  9.52985696e-03, -2.75984611e-02,\n",
       "        2.19973456e-02,  1.20821819e-02, -1.14052044e-02,  2.27470044e-02,\n",
       "        1.61852259e-02, -2.88593918e-02, -2.30129585e-02, -2.53058076e-02,\n",
       "       -1.57675836e-02, -6.94097625e-03, -9.02663097e-02, -2.96106618e-02,\n",
       "        1.74255278e-02,  2.80425400e-02,  3.75931035e-03, -3.61137800e-02,\n",
       "       -6.09563850e-03, -8.13360047e-03,  3.15174609e-02,  1.24072544e-02,\n",
       "        1.75271854e-02,  5.19056106e-03, -4.36599590e-02, -1.46466829e-02,\n",
       "        1.28408000e-02, -1.41095007e-02, -2.40065251e-03,  3.40908617e-02,\n",
       "       -2.38506752e-03, -3.55173461e-02,  9.25175846e-05, -8.94928873e-02,\n",
       "        7.46789873e-02, -5.26858978e-02, -6.08381219e-02,  4.28759418e-02,\n",
       "       -1.40529750e-02, -3.33544798e-02, -3.47631462e-02, -3.69595923e-03],\n",
       "      dtype=float32)"
      ]
     },
     "execution_count": 19,
     "metadata": {},
     "output_type": "execute_result"
    }
   ],
   "source": [
    "e"
   ]
  },
  {
   "cell_type": "code",
   "execution_count": null,
   "metadata": {},
   "outputs": [],
   "source": []
  }
 ],
 "metadata": {
  "kernelspec": {
   "display_name": "Python 3.9.9 64-bit ('paper-rec')",
   "language": "python",
   "name": "python3"
  },
  "language_info": {
   "codemirror_mode": {
    "name": "ipython",
    "version": 3
   },
   "file_extension": ".py",
   "mimetype": "text/x-python",
   "name": "python",
   "nbconvert_exporter": "python",
   "pygments_lexer": "ipython3",
   "version": "3.9.9"
  },
  "orig_nbformat": 4,
  "vscode": {
   "interpreter": {
    "hash": "4e94e6b9b379998f91e687576bfe633b5787bb4be6e105c81eb942c14e19c422"
   }
  }
 },
 "nbformat": 4,
 "nbformat_minor": 2
}
